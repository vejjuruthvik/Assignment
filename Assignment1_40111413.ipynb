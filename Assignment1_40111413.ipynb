{
 "cells": [
  {
   "cell_type": "markdown",
   "id": "636e48eb-8e5a-40f7-a460-5282834f459a",
   "metadata": {
    "tags": []
   },
   "source": [
    "VEJJU KRISHNA SAI RUTHVIK"
   ]
  },
  {
   "cell_type": "markdown",
   "id": "43c07649-761d-4eb2-8a4a-baf843462062",
   "metadata": {},
   "source": [
    "40111413"
   ]
  },
  {
   "cell_type": "markdown",
   "id": "15969989-8f40-41ca-8a5c-cabe07a42c03",
   "metadata": {},
   "source": [
    "BE CSE E4"
   ]
  },
  {
   "cell_type": "markdown",
   "id": "31b80d80-6c7c-42ca-b75f-c46370f65c26",
   "metadata": {},
   "source": [
    "                                               ASSIGNMENT"
   ]
  },
  {
   "cell_type": "markdown",
   "id": "dd381723-f263-4996-ae70-3febc4051645",
   "metadata": {},
   "source": [
    "1. What is 7 to the power of 4?"
   ]
  },
  {
   "cell_type": "code",
   "execution_count": 4,
   "id": "8f213423-ec35-422c-b625-b38ce2b5171f",
   "metadata": {},
   "outputs": [
    {
     "data": {
      "text/plain": [
       "2401"
      ]
     },
     "execution_count": 4,
     "metadata": {},
     "output_type": "execute_result"
    }
   ],
   "source": [
    "7 ** 4"
   ]
  },
  {
   "cell_type": "markdown",
   "id": "a193d19e-880c-4aff-8401-7e6d70db26f6",
   "metadata": {},
   "source": [
    "2.  Split this string into a list. \n",
    "    s = \"Hi there Sam!\""
   ]
  },
  {
   "cell_type": "code",
   "execution_count": 5,
   "id": "a60e129c-ac98-4681-af2c-bc40c8bd97af",
   "metadata": {},
   "outputs": [
    {
     "data": {
      "text/plain": [
       "['Hi', 'there', 'Sam!']"
      ]
     },
     "execution_count": 5,
     "metadata": {},
     "output_type": "execute_result"
    }
   ],
   "source": [
    "s = \"Hi there Sam!\"\n",
    "s.split()\n"
   ]
  },
  {
   "cell_type": "markdown",
   "id": "5f22aa3b-4db6-4c9b-8ed1-5b16e61103f6",
   "metadata": {},
   "source": [
    "3.Given the variables\n",
    "    planet = \"Earth\"\n",
    "    diameter = 12742\n",
    "Use .format() to print the following string\n",
    "The diameter of Earth is 12742 kilometers."
   ]
  },
  {
   "cell_type": "code",
   "execution_count": 6,
   "id": "9f7cb1aa-c63d-4ccb-af26-7e534ee2584b",
   "metadata": {},
   "outputs": [
    {
     "name": "stdout",
     "output_type": "stream",
     "text": [
      "The diameter of Earth is 12742 kilometers.\n"
     ]
    }
   ],
   "source": [
    "planet = \"Earth\"\n",
    "diameter = 12742\n",
    "\n",
    "print(\"The diameter of {} is {} kilometers.\".format(planet,diameter))"
   ]
  },
  {
   "cell_type": "markdown",
   "id": "41464f01-143b-4b24-8b89-e615c3037a0d",
   "metadata": {},
   "source": [
    "4.Given this nested list, use indexing to grab the word \"hello\n",
    "    lst = [1,2,[3,4],[5,[100,200,['hello']],23,11],1,7]"
   ]
  },
  {
   "cell_type": "code",
   "execution_count": 7,
   "id": "cbe36447-d7bf-4539-b0a4-64021aea4a75",
   "metadata": {},
   "outputs": [
    {
     "data": {
      "text/plain": [
       "'hello'"
      ]
     },
     "execution_count": 7,
     "metadata": {},
     "output_type": "execute_result"
    }
   ],
   "source": [
    "lst = [1,2,[3,4],[5,[100,200,['hello']],23,11],1,7]\n",
    "\n",
    "lst[3][1][2][0]"
   ]
  },
  {
   "cell_type": "markdown",
   "id": "d04b2976-e081-495c-9031-32bcac191ffa",
   "metadata": {},
   "source": [
    "5. Given this nested dictionary grab the word \"hello\". Be prepared, this will be annoying/tricky\n",
    "    d = {'k1':[1,2,3,{'tricky':['oh','man','inception',{'target':[1,2,3,'hello']}]}]}\n"
   ]
  },
  {
   "cell_type": "code",
   "execution_count": 8,
   "id": "4a12f8a9-aa8f-4493-a1e2-28446937990d",
   "metadata": {},
   "outputs": [
    {
     "data": {
      "text/plain": [
       "'hello'"
      ]
     },
     "execution_count": 8,
     "metadata": {},
     "output_type": "execute_result"
    }
   ],
   "source": [
    "d = {'k1':[1,2,3,{'tricky':['oh','man','inception',{'target':[1,2,3,'hello']}]}]}\n",
    "\n",
    "d['k1'][3]['tricky'][3]['target'][3]"
   ]
  },
  {
   "cell_type": "markdown",
   "id": "db0e7827-5c85-489e-bd96-aa5632d4ba05",
   "metadata": {},
   "source": [
    "6.What is the main difference between a tuple and a list?"
   ]
  },
  {
   "cell_type": "markdown",
   "id": "a9a29d9c-3883-4585-98ba-a5985b109d9d",
   "metadata": {},
   "source": [
    "ans)  Lists are mutable whereas Tuples are immutable."
   ]
  },
  {
   "cell_type": "code",
   "execution_count": null,
   "id": "4bacbed6-b8f2-4157-aaae-87e6ac6edf91",
   "metadata": {},
   "outputs": [],
   "source": []
  },
  {
   "cell_type": "markdown",
   "id": "ce5802a6-a393-4628-98c6-15df5afb4327",
   "metadata": {},
   "source": [
    "7.Create a function that grabs the email website domain from a string in the form : user@domain.com\n",
    "    So for example, passing \"user@domain.com\" would return: domain.com\n"
   ]
  },
  {
   "cell_type": "code",
   "execution_count": 10,
   "id": "10b9a0ea-aa60-4726-8cf8-69b720f7173a",
   "metadata": {},
   "outputs": [
    {
     "data": {
      "text/plain": [
       "'domain.com'"
      ]
     },
     "execution_count": 10,
     "metadata": {},
     "output_type": "execute_result"
    }
   ],
   "source": [
    "def domainGet(email):\n",
    "    return email.split('@')[-1]\n",
    "domainGet('user@domain.com')"
   ]
  },
  {
   "cell_type": "markdown",
   "id": "2310a599-103e-4a4b-ab6b-2108f145740b",
   "metadata": {},
   "source": [
    "8. Create a basic function that returns True if the word 'dog' is contained in the input string. \n",
    "    Don't worry about edge cases like a punctuation being attached to the word dog, but do account for capitalization.\n"
   ]
  },
  {
   "cell_type": "code",
   "execution_count": 11,
   "id": "9f262ed8-bc0a-4436-874c-ac1b843f9261",
   "metadata": {},
   "outputs": [
    {
     "data": {
      "text/plain": [
       "True"
      ]
     },
     "execution_count": 11,
     "metadata": {},
     "output_type": "execute_result"
    }
   ],
   "source": [
    "def findDog(st):\n",
    "    return 'dog' in st.lower().split()\n",
    "findDog('Is there a dog here?')"
   ]
  },
  {
   "cell_type": "markdown",
   "id": "da9e7782-9019-465c-9481-fdc012aa905a",
   "metadata": {},
   "source": [
    "9. Use lambda expressions and the filter() function to filter out words from a list that don't start with the letter 's'.\n",
    "    For example:\n",
    "    seq = ['soup','dog','salad','cat','great']\n",
    "    should be filtered down to:    ['soup','salad']\n"
   ]
  },
  {
   "cell_type": "code",
   "execution_count": 15,
   "id": "87fc6c30-3aab-425f-bbcd-ce0f2110213a",
   "metadata": {},
   "outputs": [
    {
     "data": {
      "text/plain": [
       "['soup', 'salad']"
      ]
     },
     "execution_count": 15,
     "metadata": {},
     "output_type": "execute_result"
    }
   ],
   "source": [
    "seq = ['soup','dog','salad','cat','great']\n",
    "\n",
    "list(filter(lambda word: word[0]=='s',seq))"
   ]
  },
  {
   "cell_type": "markdown",
   "id": "6a07916a-6088-4dd0-9d79-445e7622727f",
   "metadata": {},
   "source": [
    "10. You are driving a little too fast, and a police officer stops you. Write a function\n",
    "      to return one of 3 possible results: \"No ticket\", \"Small ticket\", or \"Big Ticket\". \n",
    "      If your speed is 60 or less, the result is \"No Ticket\". If speed is between 61 \n",
    "      and 80 inclusive, the result is \"Small Ticket\". If speed is 81 or more, the result is \"Big    Ticket\".\n",
    "     Unless it is your birthday (encoded as a boolean value in the parameters of the function) --\n",
    "     on your birthday, your speed can be 5 higher in all cases. \n",
    "    \n",
    "\n"
   ]
  },
  {
   "cell_type": "code",
   "execution_count": 18,
   "id": "4e04dba8-8c91-4c74-9eda-7aee1e1f802c",
   "metadata": {},
   "outputs": [],
   "source": [
    "def caught_speeding(speed, is_birthday):\n",
    "    \n",
    "    if is_birthday:\n",
    "        speeding = speed - 5\n",
    "    else:\n",
    "        speeding = speed\n",
    "    \n",
    "    if speeding > 80:\n",
    "        return 'Big Ticket'\n",
    "    elif speeding > 60:\n",
    "        return 'Small Ticket'\n",
    "    else:\n",
    "        return 'No Ticket'"
   ]
  },
  {
   "cell_type": "code",
   "execution_count": 19,
   "id": "7df89b03-9933-4eaf-9265-a17cbd9f498f",
   "metadata": {},
   "outputs": [
    {
     "data": {
      "text/plain": [
       "'Small Ticket'"
      ]
     },
     "execution_count": 19,
     "metadata": {},
     "output_type": "execute_result"
    }
   ],
   "source": [
    "caught_speeding(81,True)"
   ]
  },
  {
   "cell_type": "code",
   "execution_count": 20,
   "id": "78dd5423-d79a-4b97-807e-100f98f0782e",
   "metadata": {},
   "outputs": [
    {
     "data": {
      "text/plain": [
       "'Big Ticket'"
      ]
     },
     "execution_count": 20,
     "metadata": {},
     "output_type": "execute_result"
    }
   ],
   "source": [
    "caught_speeding(81,False)"
   ]
  }
 ],
 "metadata": {
  "kernelspec": {
   "display_name": "Python 3 (ipykernel)",
   "language": "python",
   "name": "python3"
  },
  "language_info": {
   "codemirror_mode": {
    "name": "ipython",
    "version": 3
   },
   "file_extension": ".py",
   "mimetype": "text/x-python",
   "name": "python",
   "nbconvert_exporter": "python",
   "pygments_lexer": "ipython3",
   "version": "3.9.5"
  }
 },
 "nbformat": 4,
 "nbformat_minor": 5
}
